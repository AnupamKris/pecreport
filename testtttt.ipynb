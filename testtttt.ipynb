{
 "cells": [
  {
   "cell_type": "code",
   "execution_count": 1,
   "metadata": {},
   "outputs": [],
   "source": [
    "import pandas as pd"
   ]
  },
  {
   "cell_type": "code",
   "execution_count": 9,
   "metadata": {},
   "outputs": [],
   "source": [
    "df = pd.read_excel('sample.xlsx')"
   ]
  },
  {
   "cell_type": "code",
   "execution_count": 10,
   "metadata": {},
   "outputs": [],
   "source": [
    "# remove first 2 rows\n",
    "df = df.iloc[2:]\n",
    "\n",
    "# use the first row as header\n",
    "df.columns = df.iloc[0]\n",
    "df = df.iloc[1:]"
   ]
  },
  {
   "cell_type": "code",
   "execution_count": 12,
   "metadata": {},
   "outputs": [],
   "source": [
    "# use first column as index\n",
    "df = df.set_index('S.No')"
   ]
  },
  {
   "cell_type": "code",
   "execution_count": 18,
   "metadata": {},
   "outputs": [
    {
     "data": {
      "text/html": [
       "<div>\n",
       "<style scoped>\n",
       "    .dataframe tbody tr th:only-of-type {\n",
       "        vertical-align: middle;\n",
       "    }\n",
       "\n",
       "    .dataframe tbody tr th {\n",
       "        vertical-align: top;\n",
       "    }\n",
       "\n",
       "    .dataframe thead th {\n",
       "        text-align: right;\n",
       "    }\n",
       "</style>\n",
       "<table border=\"1\" class=\"dataframe\">\n",
       "  <thead>\n",
       "    <tr style=\"text-align: right;\">\n",
       "      <th>2</th>\n",
       "      <th>Roll No</th>\n",
       "      <th>Name</th>\n",
       "      <th>Admission Category</th>\n",
       "      <th>OPTIMIZATION TECHNIQUES</th>\n",
       "      <th>COMPUTER NETWORKS</th>\n",
       "      <th>DATA EXPLORATION AND VISUALIZATION</th>\n",
       "      <th>BUSINESS ANALYTICS</th>\n",
       "      <th>MACHINE LEARNING</th>\n",
       "      <th>GEOGRAPHIC INFORMATION SYSTEM</th>\n",
       "      <th>AB / Fail</th>\n",
       "      <th>Total no of days</th>\n",
       "      <th>Absent</th>\n",
       "      <th>Attn %</th>\n",
       "    </tr>\n",
       "    <tr>\n",
       "      <th>S.No</th>\n",
       "      <th></th>\n",
       "      <th></th>\n",
       "      <th></th>\n",
       "      <th></th>\n",
       "      <th></th>\n",
       "      <th></th>\n",
       "      <th></th>\n",
       "      <th></th>\n",
       "      <th></th>\n",
       "      <th></th>\n",
       "      <th></th>\n",
       "      <th></th>\n",
       "      <th></th>\n",
       "    </tr>\n",
       "  </thead>\n",
       "  <tbody>\n",
       "    <tr>\n",
       "      <th>23</th>\n",
       "      <td>111420243024</td>\n",
       "      <td>TALLAPANENI VENKATA LOKESH</td>\n",
       "      <td>Govt</td>\n",
       "      <td>62</td>\n",
       "      <td>82</td>\n",
       "      <td>65</td>\n",
       "      <td>69</td>\n",
       "      <td>78</td>\n",
       "      <td>76</td>\n",
       "      <td>0</td>\n",
       "      <td>NaN</td>\n",
       "      <td>NaN</td>\n",
       "      <td>NaN</td>\n",
       "    </tr>\n",
       "    <tr>\n",
       "      <th>24</th>\n",
       "      <td>111420243025</td>\n",
       "      <td>THUMATI DHINESH KUMAR</td>\n",
       "      <td>Govt</td>\n",
       "      <td>AB</td>\n",
       "      <td>AB</td>\n",
       "      <td>AB</td>\n",
       "      <td>AB</td>\n",
       "      <td>AB</td>\n",
       "      <td>AB</td>\n",
       "      <td>6</td>\n",
       "      <td>NaN</td>\n",
       "      <td>#</td>\n",
       "      <td>NaN</td>\n",
       "    </tr>\n",
       "    <tr>\n",
       "      <th>25</th>\n",
       "      <td>111420243026</td>\n",
       "      <td>YUVARAJ P</td>\n",
       "      <td>Min</td>\n",
       "      <td>AB</td>\n",
       "      <td>AB</td>\n",
       "      <td>AB</td>\n",
       "      <td>AB</td>\n",
       "      <td>AB</td>\n",
       "      <td>AB</td>\n",
       "      <td>6</td>\n",
       "      <td>NaN</td>\n",
       "      <td>#</td>\n",
       "      <td>NaN</td>\n",
       "    </tr>\n",
       "    <tr>\n",
       "      <th>26</th>\n",
       "      <td>111420243301</td>\n",
       "      <td>HARISH</td>\n",
       "      <td>Mngt</td>\n",
       "      <td>61</td>\n",
       "      <td>86</td>\n",
       "      <td>60</td>\n",
       "      <td>60</td>\n",
       "      <td>77</td>\n",
       "      <td>61</td>\n",
       "      <td>0</td>\n",
       "      <td>NaN</td>\n",
       "      <td>NaN</td>\n",
       "      <td>NaN</td>\n",
       "    </tr>\n",
       "    <tr>\n",
       "      <th>NaN</th>\n",
       "      <td>NaN</td>\n",
       "      <td>Subjects</td>\n",
       "      <td>NaN</td>\n",
       "      <td>AD8501</td>\n",
       "      <td>CW8691</td>\n",
       "      <td>AD8502</td>\n",
       "      <td>AD8551</td>\n",
       "      <td>AD8552</td>\n",
       "      <td>NaN</td>\n",
       "      <td>55</td>\n",
       "      <td>NaN</td>\n",
       "      <td>Total</td>\n",
       "      <td>1</td>\n",
       "    </tr>\n",
       "  </tbody>\n",
       "</table>\n",
       "</div>"
      ],
      "text/plain": [
       "2          Roll No                        Name Admission Category  \\\n",
       "S.No                                                                \n",
       "23    111420243024  TALLAPANENI VENKATA LOKESH               Govt   \n",
       "24    111420243025       THUMATI DHINESH KUMAR               Govt   \n",
       "25    111420243026                   YUVARAJ P                Min   \n",
       "26    111420243301                      HARISH               Mngt   \n",
       "NaN            NaN                    Subjects                NaN   \n",
       "\n",
       "2    OPTIMIZATION TECHNIQUES COMPUTER NETWORKS  \\\n",
       "S.No                                             \n",
       "23                        62                82   \n",
       "24                        AB                AB   \n",
       "25                        AB                AB   \n",
       "26                        61                86   \n",
       "NaN                   AD8501            CW8691   \n",
       "\n",
       "2    DATA EXPLORATION AND VISUALIZATION BUSINESS ANALYTICS MACHINE LEARNING  \\\n",
       "S.No                                                                          \n",
       "23                                   65                 69               78   \n",
       "24                                   AB                 AB               AB   \n",
       "25                                   AB                 AB               AB   \n",
       "26                                   60                 60               77   \n",
       "NaN                              AD8502             AD8551           AD8552   \n",
       "\n",
       "2    GEOGRAPHIC INFORMATION SYSTEM AB / Fail Total no of days Absent Attn %  \n",
       "S.No                                                                         \n",
       "23                              76         0              NaN    NaN    NaN  \n",
       "24                              AB         6              NaN     #     NaN  \n",
       "25                              AB         6              NaN     #     NaN  \n",
       "26                              61         0              NaN    NaN    NaN  \n",
       "NaN                            NaN        55              NaN  Total      1  "
      ]
     },
     "execution_count": 18,
     "metadata": {},
     "output_type": "execute_result"
    }
   ],
   "source": [
    "df.tail()"
   ]
  },
  {
   "cell_type": "code",
   "execution_count": 23,
   "metadata": {},
   "outputs": [],
   "source": [
    "# get first record\n",
    "rec = list(df.iloc[0])\n",
    "subjects = list(df.iloc[-1])[3:-5]"
   ]
  },
  {
   "cell_type": "code",
   "execution_count": 25,
   "metadata": {},
   "outputs": [
    {
     "name": "stdout",
     "output_type": "stream",
     "text": [
      "[111420243001, 'AJAY B', 27, 8, 35, 80, ['AB', 56, 60, 60, 60], ['AD8501', 'CW8691', 'AD8502', 'AD8551', 'AD8552']]\n"
     ]
    }
   ],
   "source": [
    "regno = rec[0]\n",
    "name = rec[1]\n",
    "marks = rec[3:-5]\n",
    "total = 35 #rec[-3]\n",
    "percentage = 80 #rec[-1]\n",
    "absent = 8 #rec[-2]\n",
    "present = total - absent\n",
    "\n",
    "print([regno, name, present, absent, total, percentage, marks, subjects])\n"
   ]
  },
  {
   "cell_type": "code",
   "execution_count": 22,
   "metadata": {},
   "outputs": [
    {
     "data": {
      "text/plain": [
       "['AD8501', 'CW8691', 'AD8502', 'AD8551', 'AD8552']"
      ]
     },
     "execution_count": 22,
     "metadata": {},
     "output_type": "execute_result"
    }
   ],
   "source": []
  }
 ],
 "metadata": {
  "kernelspec": {
   "display_name": "Python 3",
   "language": "python",
   "name": "python3"
  },
  "language_info": {
   "codemirror_mode": {
    "name": "ipython",
    "version": 3
   },
   "file_extension": ".py",
   "mimetype": "text/x-python",
   "name": "python",
   "nbconvert_exporter": "python",
   "pygments_lexer": "ipython3",
   "version": "3.10.10"
  }
 },
 "nbformat": 4,
 "nbformat_minor": 2
}
